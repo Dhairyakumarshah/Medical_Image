{
  "nbformat": 4,
  "nbformat_minor": 0,
  "metadata": {
    "colab": {
      "provenance": [],
      "mount_file_id": "1qIoBls7gHskdaNJOlXsiahTG6Xb7Kz_h",
      "authorship_tag": "ABX9TyMJtCmW0XHeD4tT7sMZbUwu",
      "include_colab_link": true
    },
    "kernelspec": {
      "name": "python3",
      "display_name": "Python 3"
    },
    "language_info": {
      "name": "python"
    }
  },
  "cells": [
    {
      "cell_type": "markdown",
      "metadata": {
        "id": "view-in-github",
        "colab_type": "text"
      },
      "source": [
        "<a href=\"https://colab.research.google.com/github/Dhairyakumarshah/Medical_Image/blob/main/Image_segmentation.ipynb\" target=\"_parent\"><img src=\"https://colab.research.google.com/assets/colab-badge.svg\" alt=\"Open In Colab\"/></a>"
      ]
    },
    {
      "cell_type": "code",
      "source": [
        "!pip install -q pandas opencv-python-headless scikit-learn"
      ],
      "metadata": {
        "id": "ZdFkbI9qa1sk"
      },
      "execution_count": 1,
      "outputs": []
    },
    {
      "cell_type": "code",
      "source": [
        "import os\n",
        "import pandas as pd\n",
        "import numpy as np\n",
        "import cv2\n",
        "from tensorflow.keras.utils import to_categorical\n",
        "from tensorflow.keras.applications import ResNet50\n",
        "from tensorflow.keras.models import Sequential\n",
        "from tensorflow.keras.layers import Dense, GlobalAveragePooling2D\n",
        "from sklearn.model_selection import train_test_split"
      ],
      "metadata": {
        "id": "-h3r9BRmbIs7"
      },
      "execution_count": 2,
      "outputs": []
    },
    {
      "cell_type": "code",
      "source": [
        "# Update this based on your dataset location in Drive\n",
        "image_root = '/content/drive/MyDrive/UW GI classification/train'  # Folder containing all case folders\n",
        "csv_path = '/content/drive/MyDrive/UW GI classification/train.csv'  # Path to train.csv\n"
      ],
      "metadata": {
        "id": "2qlDIrrgb5us"
      },
      "execution_count": 15,
      "outputs": []
    },
    {
      "cell_type": "code",
      "source": [
        "# Step 5: Load the CSV and generate image paths\n",
        "df = pd.read_csv(csv_path)\n",
        "df['segmentation'] = df.segmentation.fillna('')  # fill empty masks\n",
        "df['rle_len'] = df.segmentation.map(len)  # optional: length of RLE\n",
        "df['empty'] = (df.rle_len == 0)  # mark empty masks"
      ],
      "metadata": {
        "id": "xFDR84_-cAuE"
      },
      "execution_count": 17,
      "outputs": []
    },
    {
      "cell_type": "code",
      "source": [
        "# Extract case, day, and slice from `id`\n",
        "def extract_parts(row):\n",
        "    parts = row['id'].split('_')\n",
        "    return pd.Series({\n",
        "        'case': parts[0],\n",
        "        'day': parts[1],\n",
        "        'slice': int(parts[3])\n",
        "    })\n",
        "\n",
        "df = df.join(df.apply(extract_parts, axis=1))\n"
      ],
      "metadata": {
        "id": "68_yrhOadKZN"
      },
      "execution_count": 18,
      "outputs": []
    },
    {
      "cell_type": "code",
      "source": [
        "# Construct image path\n",
        "def build_image_path(row):\n",
        "    return os.path.join(\n",
        "        image_root,\n",
        "        f\"{row['case']}\",\n",
        "        f\"{row['case']}_{row['day']}\",\n",
        "        \"scans\",\n",
        "        f\"slice_{row['slice']:04d}_266_266_1.50_1.50.png\"\n",
        "    )\n",
        "\n",
        "df['image_path'] = df.apply(build_image_path, axis=1)\n"
      ],
      "metadata": {
        "id": "IzM9MT4QdPxq"
      },
      "execution_count": 19,
      "outputs": []
    },
    {
      "cell_type": "code",
      "source": [
        "# Filter one image per ID for classification (can choose first by group)\n",
        "df_class = df.groupby(['id', 'class']).first().reset_index()"
      ],
      "metadata": {
        "id": "hXdlM03ye8rH"
      },
      "execution_count": 20,
      "outputs": []
    },
    {
      "cell_type": "code",
      "source": [
        "import os\n",
        "\n",
        "image_folder = \"/content/drive/MyDrive/UW GI classification/train/case101/case101_day20/scans/\"\n",
        "image_files = [f for f in os.listdir(image_folder) if f.endswith('.png')]\n",
        "\n",
        "# Print filenames to inspect\n",
        "for image_file in image_files[:5]:  # Checking first 5 images\n",
        "    print(f\"Filename: {image_file}\")\n"
      ],
      "metadata": {
        "colab": {
          "base_uri": "https://localhost:8080/"
        },
        "id": "fR-x9MAsfi3S",
        "outputId": "e62677dc-df46-4a44-d13f-e6246be222b4"
      },
      "execution_count": 26,
      "outputs": [
        {
          "output_type": "stream",
          "name": "stdout",
          "text": [
            "Filename: slice_0030_266_266_1.50_1.50.png\n",
            "Filename: slice_0001_266_266_1.50_1.50.png\n",
            "Filename: slice_0008_266_266_1.50_1.50.png\n",
            "Filename: slice_0005_266_266_1.50_1.50.png\n",
            "Filename: slice_0002_266_266_1.50_1.50.png\n"
          ]
        }
      ]
    },
    {
      "cell_type": "code",
      "source": [
        "# Update the load_and_normalize function to handle grayscale images\n",
        "def load_and_normalize_image(image_path):\n",
        "    img = cv2.imread(image_path, cv2.IMREAD_GRAYSCALE)  # Read as grayscale\n",
        "    if img is None:\n",
        "        return None\n",
        "    img = cv2.resize(img, (224, 224))  # Resize the image\n",
        "    img = np.expand_dims(img, axis=-1)  # Add a channel dimension (e.g., for grayscale)\n",
        "    img = img / 255.0  # Normalize the image\n",
        "    return img\n",
        "\n",
        "# Load and normalize a few sample images\n",
        "sample_images = [load_and_normalize_image(image_paths[i]) for i in range(5)]\n",
        "\n",
        "# Display the images\n",
        "fig, axes = plt.subplots(1, 5, figsize=(15, 5))\n",
        "for i, ax in enumerate(axes):\n",
        "    if sample_images[i] is not None:\n",
        "        ax.imshow(sample_images[i].squeeze(), cmap='gray')  # Display grayscale image\n",
        "        ax.axis('off')\n",
        "    else:\n",
        "        ax.axis('off')\n",
        "plt.show()\n"
      ],
      "metadata": {
        "colab": {
          "base_uri": "https://localhost:8080/",
          "height": 237
        },
        "id": "AUMDO4Pofwt-",
        "outputId": "7d6b726e-6337-4858-c9f2-a4fdbf54e757"
      },
      "execution_count": 24,
      "outputs": [
        {
          "output_type": "display_data",
          "data": {
            "text/plain": [
              "<Figure size 1500x500 with 5 Axes>"
            ],
            "image/png": "[encoded data removed]"
          },
          "metadata": {}
        }
      ]
    },
    {
      "cell_type": "code",
      "source": [
        "import re\n",
        "import os\n",
        "\n",
        "def extract_metadata_from_filename(filename):\n",
        "    # Try a more flexible regex to handle the filename format\n",
        "    match = re.match(r\"slice_(\\d+)_(\\d+)_(\\d+)_(\\d+\\.\\d+)_(\\d+\\.\\d+)\\.png\", filename)\n",
        "    if match:\n",
        "        slice_number = int(match.group(1))  # slice number\n",
        "        width = int(match.group(2))         # image width in pixels\n",
        "        height = int(match.group(3))        # image height in pixels\n",
        "        pixel_spacing_width = float(match.group(4))  # pixel spacing (width) in mm\n",
        "        pixel_spacing_height = float(match.group(5)) # pixel spacing (height) in mm\n",
        "\n",
        "        return slice_number, width, height, pixel_spacing_width, pixel_spacing_height\n",
        "    else:\n",
        "        print(f\"Regex match failed for filename: {filename}\")\n",
        "        return None\n",
        "\n",
        "# Folder path where images are stored\n",
        "image_folder = \"/content/drive/MyDrive/UW GI classification/train/case101/case101_day20/scans/\"\n",
        "image_files = [f for f in os.listdir(image_folder) if f.endswith('.png')]\n",
        "\n",
        "# Extract metadata for the first 5 images\n",
        "for image_file in image_files[:5]:  # Checking first 5 images\n",
        "    metadata = extract_metadata_from_filename(image_file)\n",
        "    if metadata:\n",
        "        print(f\"File: {image_file} -> Slice: {metadata[0]}, Resolution: {metadata[1]}x{metadata[2]}, Pixel Spacing: {metadata[3]}x{metadata[4]} mm\")\n",
        "    else:\n",
        "        print(f\"Could not extract metadata for file: {image_file}\")\n"
      ],
      "metadata": {
        "colab": {
          "base_uri": "https://localhost:8080/"
        },
        "id": "CZqqZ488grHz",
        "outputId": "78f298f7-a204-4c3a-bb87-4df2962f2919"
      },
      "execution_count": 29,
      "outputs": [
        {
          "output_type": "stream",
          "name": "stdout",
          "text": [
            "File: slice_0030_266_266_1.50_1.50.png -> Slice: 30, Resolution: 266x266, Pixel Spacing: 1.5x1.5 mm\n",
            "File: slice_0001_266_266_1.50_1.50.png -> Slice: 1, Resolution: 266x266, Pixel Spacing: 1.5x1.5 mm\n",
            "File: slice_0008_266_266_1.50_1.50.png -> Slice: 8, Resolution: 266x266, Pixel Spacing: 1.5x1.5 mm\n",
            "File: slice_0005_266_266_1.50_1.50.png -> Slice: 5, Resolution: 266x266, Pixel Spacing: 1.5x1.5 mm\n",
            "File: slice_0002_266_266_1.50_1.50.png -> Slice: 2, Resolution: 266x266, Pixel Spacing: 1.5x1.5 mm\n"
          ]
        }
      ]
    },
    {
      "cell_type": "code",
      "source": [
        "import os\n",
        "import cv2\n",
        "import numpy as np\n",
        "import pandas as pd\n",
        "import matplotlib.pyplot as plt\n",
        "from tensorflow.keras.applications import ResNet50\n",
        "from tensorflow.keras.preprocessing import image\n",
        "from tensorflow.keras.applications.resnet50 import preprocess_input\n",
        "from tensorflow.keras.models import Model\n",
        "from tensorflow.keras.layers import Dense, GlobalAveragePooling2D\n",
        "from tensorflow.keras.utils import to_categorical\n",
        "from sklearn.model_selection import train_test_split\n",
        "\n",
        "# Step 1: Define the function to extract metadata from filenames\n",
        "def extract_metadata_from_filename(filename):\n",
        "    import re\n",
        "    pattern = r'slice_(\\d+)_\\d+_\\d+_(\\d+\\.\\d+)_'\n",
        "    match = re.match(pattern, filename)\n",
        "    if match:\n",
        "        slice_number = int(match.group(1))\n",
        "        pixel_spacing = float(match.group(2))\n",
        "        return slice_number, pixel_spacing\n",
        "    return None, None\n",
        "\n",
        "# Step 2: Load CSV and image paths\n",
        "train_csv_path = '/content/drive/MyDrive/UW GI classification/train.csv'\n",
        "df = pd.read_csv(train_csv_path)\n",
        "\n",
        "# Ensure segmentation is filled (adjust if needed)\n",
        "df['segmentation'] = df.segmentation.fillna('')\n",
        "\n",
        "# Step 3: Prepare image paths\n",
        "image_dir = \"/content/drive/MyDrive/UW GI classification/train\"\n",
        "image_paths = []\n",
        "\n",
        "# Loop to get image paths from the directory\n",
        "for case_folder in os.listdir(image_dir):\n",
        "    case_path = os.path.join(image_dir, case_folder)\n",
        "    if os.path.isdir(case_path):\n",
        "        for day_folder in os.listdir(case_path):\n",
        "            day_path = os.path.join(case_path, day_folder, 'scans')\n",
        "            if os.path.isdir(day_path):\n",
        "                for img_file in os.listdir(day_path):\n",
        "                    img_path = os.path.join(day_path, img_file)\n",
        "                    if img_path.endswith('.png'):\n",
        "                        image_paths.append(img_path)\n",
        "\n",
        "# Step 4: Load and preprocess images\n",
        "images = []\n",
        "labels = []  # You'll need to create labels from your data, this is just an example\n",
        "for img_path in image_paths:\n",
        "    # Extract metadata\n",
        "    slice_number, pixel_spacing = extract_metadata_from_filename(img_path)\n",
        "\n",
        "    if slice_number is not None:\n",
        "        # Load image\n",
        "        img = cv2.imread(img_path)\n",
        "        img = cv2.resize(img, (224, 224))  # Resize to ResNet50 input size\n",
        "        img = img / 255.0  # Normalize image\n",
        "        images.append(img)\n",
        "\n",
        "        # Create dummy label (Replace with actual labels from your CSV)\n",
        "        labels.append(slice_number)  # Replace this with the actual class if available"
      ],
      "metadata": {
        "id": "eT4WmyRyhQS-"
      },
      "execution_count": 30,
      "outputs": []
    },
    {
      "cell_type": "code",
      "source": [
        "import matplotlib.pyplot as plt\n",
        "import cv2\n",
        "\n",
        "# Function to show a sample of images\n",
        "def display_sample_images(image_paths, num_images=5):\n",
        "    plt.figure(figsize=(10, 10))\n",
        "\n",
        "    # Select a few images to display\n",
        "    for i, img_path in enumerate(image_paths[:num_images]):\n",
        "        img = cv2.imread(img_path)\n",
        "        img = cv2.cvtColor(img, cv2.COLOR_BGR2RGB)  # Convert from BGR to RGB\n",
        "\n",
        "        plt.subplot(1, num_images, i + 1)\n",
        "        plt.imshow(img)\n",
        "        plt.title(f\"Image {i + 1}\")\n",
        "        plt.axis('off')\n",
        "\n",
        "    plt.show()\n",
        "\n",
        "# Call the function to display images\n",
        "display_sample_images(image_paths, num_images=5)  # Adjust num_images to display more/less\n"
      ],
      "metadata": {
        "colab": {
          "base_uri": "https://localhost:8080/",
          "height": 174
        },
        "id": "iuT9WjAthScl",
        "outputId": "914fe2f7-8111-446f-f298-21548e84fca5"
      },
      "execution_count": 31,
      "outputs": [
        {
          "output_type": "display_data",
          "data": {
            "text/plain": [
              "<Figure size 1000x1000 with 5 Axes>"
            ],
            "image/png": "[encoded data removed]"
          },
          "metadata": {}
        }
      ]
    },
    {
      "cell_type": "code",
      "source": [
        "import matplotlib.pyplot as plt\n",
        "import cv2\n",
        "import numpy as np\n",
        "\n",
        "# Function to normalize and show images\n",
        "def normalize_and_display_images(image_paths, num_images=5):\n",
        "    plt.figure(figsize=(10, 10))\n",
        "\n",
        "    # Select a few images to display\n",
        "    for i, img_path in enumerate(image_paths[:num_images]):\n",
        "        img = cv2.imread(img_path)\n",
        "\n",
        "        # Normalize the image (scale pixel values to 0-1)\n",
        "        img_normalized = img / 255.0\n",
        "\n",
        "        # Convert to RGB (since OpenCV loads images in BGR)\n",
        "        img_normalized_rgb = cv2.cvtColor(img_normalized, cv2.COLOR_BGR2RGB)\n",
        "\n",
        "        plt.subplot(1, num_images, i + 1)\n",
        "        plt.imshow(img_normalized_rgb)\n",
        "        plt.title(f\"Normalized Image {i + 1}\")\n",
        "        plt.axis('off')\n",
        "\n",
        "    plt.show()\n",
        "\n",
        "# Call the function to display normalized images\n",
        "normalize_and_display_images(image_paths, num_images=5)  # Adjust num_images to display more/less\n"
      ],
      "metadata": {
        "colab": {
          "base_uri": "https://localhost:8080/",
          "height": 436
        },
        "id": "MIG6LusUhnEs",
        "outputId": "85e7d0f6-f500-4946-fe0c-1740be5a34d0"
      },
      "execution_count": 32,
      "outputs": [
        {
          "output_type": "error",
          "ename": "error",
          "evalue": "OpenCV(4.11.0) /io/opencv/modules/imgproc/src/color.simd_helpers.hpp:94: error: (-2:Unspecified error) in function 'cv::impl::{anonymous}::CvtHelper<VScn, VDcn, VDepth, sizePolicy>::CvtHelper(cv::InputArray, cv::OutputArray, int) [with VScn = cv::impl::{anonymous}::Set<3, 4>; VDcn = cv::impl::{anonymous}::Set<3, 4>; VDepth = cv::impl::{anonymous}::Set<0, 2, 5>; cv::impl::{anonymous}::SizePolicy sizePolicy = cv::impl::<unnamed>::NONE; cv::InputArray = const cv::_InputArray&; cv::OutputArray = const cv::_OutputArray&]'\n> Unsupported depth of input image:\n>     'VDepth::contains(depth)'\n> where\n>     'depth' is 6 (CV_64F)\n",
          "traceback": [
            "\u001b[0;31m---------------------------------------------------------------------------\u001b[0m",
            "\u001b[0;31merror\u001b[0m                                     Traceback (most recent call last)",
            "\u001b[0;32m<ipython-input-32-126d253a1b0a>\u001b[0m in \u001b[0;36m<cell line: 0>\u001b[0;34m()\u001b[0m\n\u001b[1;32m     25\u001b[0m \u001b[0;34m\u001b[0m\u001b[0m\n\u001b[1;32m     26\u001b[0m \u001b[0;31m# Call the function to display normalized images\u001b[0m\u001b[0;34m\u001b[0m\u001b[0;34m\u001b[0m\u001b[0m\n\u001b[0;32m---> 27\u001b[0;31m \u001b[0mnormalize_and_display_images\u001b[0m\u001b[0;34m(\u001b[0m\u001b[0mimage_paths\u001b[0m\u001b[0;34m,\u001b[0m \u001b[0mnum_images\u001b[0m\u001b[0;34m=\u001b[0m\u001b[0;36m5\u001b[0m\u001b[0;34m)\u001b[0m  \u001b[0;31m# Adjust num_images to display more/less\u001b[0m\u001b[0;34m\u001b[0m\u001b[0;34m\u001b[0m\u001b[0m\n\u001b[0m",
            "\u001b[0;32m<ipython-input-32-126d253a1b0a>\u001b[0m in \u001b[0;36mnormalize_and_display_images\u001b[0;34m(image_paths, num_images)\u001b[0m\n\u001b[1;32m     15\u001b[0m \u001b[0;34m\u001b[0m\u001b[0m\n\u001b[1;32m     16\u001b[0m         \u001b[0;31m# Convert to RGB (since OpenCV loads images in BGR)\u001b[0m\u001b[0;34m\u001b[0m\u001b[0;34m\u001b[0m\u001b[0m\n\u001b[0;32m---> 17\u001b[0;31m         \u001b[0mimg_normalized_rgb\u001b[0m \u001b[0;34m=\u001b[0m \u001b[0mcv2\u001b[0m\u001b[0;34m.\u001b[0m\u001b[0mcvtColor\u001b[0m\u001b[0;34m(\u001b[0m\u001b[0mimg_normalized\u001b[0m\u001b[0;34m,\u001b[0m \u001b[0mcv2\u001b[0m\u001b[0;34m.\u001b[0m\u001b[0mCOLOR_BGR2RGB\u001b[0m\u001b[0;34m)\u001b[0m\u001b[0;34m\u001b[0m\u001b[0;34m\u001b[0m\u001b[0m\n\u001b[0m\u001b[1;32m     18\u001b[0m \u001b[0;34m\u001b[0m\u001b[0m\n\u001b[1;32m     19\u001b[0m         \u001b[0mplt\u001b[0m\u001b[0;34m.\u001b[0m\u001b[0msubplot\u001b[0m\u001b[0;34m(\u001b[0m\u001b[0;36m1\u001b[0m\u001b[0;34m,\u001b[0m \u001b[0mnum_images\u001b[0m\u001b[0;34m,\u001b[0m \u001b[0mi\u001b[0m \u001b[0;34m+\u001b[0m \u001b[0;36m1\u001b[0m\u001b[0;34m)\u001b[0m\u001b[0;34m\u001b[0m\u001b[0;34m\u001b[0m\u001b[0m\n",
            "\u001b[0;31merror\u001b[0m: OpenCV(4.11.0) /io/opencv/modules/imgproc/src/color.simd_helpers.hpp:94: error: (-2:Unspecified error) in function 'cv::impl::{anonymous}::CvtHelper<VScn, VDcn, VDepth, sizePolicy>::CvtHelper(cv::InputArray, cv::OutputArray, int) [with VScn = cv::impl::{anonymous}::Set<3, 4>; VDcn = cv::impl::{anonymous}::Set<3, 4>; VDepth = cv::impl::{anonymous}::Set<0, 2, 5>; cv::impl::{anonymous}::SizePolicy sizePolicy = cv::impl::<unnamed>::NONE; cv::InputArray = const cv::_InputArray&; cv::OutputArray = const cv::_OutputArray&]'\n> Unsupported depth of input image:\n>     'VDepth::contains(depth)'\n> where\n>     'depth' is 6 (CV_64F)\n"
          ]
        },
        {
          "output_type": "display_data",
          "data": {
            "text/plain": [
              "<Figure size 1000x1000 with 0 Axes>"
            ]
          },
          "metadata": {}
        }
      ]
    }
  ]
}